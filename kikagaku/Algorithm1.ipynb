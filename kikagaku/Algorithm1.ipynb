{
 "cells": [
  {
   "cell_type": "markdown",
   "metadata": {},
   "source": [
    "# イントロダクション"
   ]
  },
  {
   "cell_type": "code",
   "execution_count": 3,
   "metadata": {},
   "outputs": [
    {
     "name": "stdout",
     "output_type": "stream",
     "text": [
      "私は黒子野太助です。26才です。\n",
      "私は黒子野太助です。26才です。\n"
     ]
    }
   ],
   "source": [
    "name1='黒子野'\n",
    "name2='太助'\n",
    "age=26\n",
    "print('私は'+name1+name2+'です。'+str(age)+'才です。')\n",
    "print('私は{}{}です。{}才です。'.format(name1,name2,age))"
   ]
  },
  {
   "cell_type": "code",
   "execution_count": null,
   "metadata": {},
   "outputs": [],
   "source": []
  },
  {
   "cell_type": "markdown",
   "metadata": {},
   "source": [
    "## タプル　書き換えのできないリスト"
   ]
  },
  {
   "cell_type": "code",
   "execution_count": 4,
   "metadata": {},
   "outputs": [],
   "source": [
    "a=(4,5,6,7)"
   ]
  },
  {
   "cell_type": "code",
   "execution_count": 5,
   "metadata": {},
   "outputs": [
    {
     "data": {
      "text/plain": [
       "tuple"
      ]
     },
     "execution_count": 5,
     "metadata": {},
     "output_type": "execute_result"
    }
   ],
   "source": [
    "type(a)"
   ]
  },
  {
   "cell_type": "code",
   "execution_count": 7,
   "metadata": {},
   "outputs": [
    {
     "data": {
      "text/plain": [
       "4"
      ]
     },
     "execution_count": 7,
     "metadata": {},
     "output_type": "execute_result"
    }
   ],
   "source": [
    "a[0]\n",
    "# []:要素へのアクセス\n",
    "#():関数へのアクセス"
   ]
  },
  {
   "cell_type": "code",
   "execution_count": 8,
   "metadata": {},
   "outputs": [],
   "source": [
    "names=['吉崎','佐藤','鈴木','高橋']"
   ]
  },
  {
   "cell_type": "code",
   "execution_count": 9,
   "metadata": {},
   "outputs": [
    {
     "name": "stdout",
     "output_type": "stream",
     "text": [
      "吉崎さん、こんにちは  \n",
      "佐藤さん、こんにちは  \n",
      "鈴木さん、こんにちは  \n",
      "高橋さん、こんにちは  \n"
     ]
    }
   ],
   "source": [
    "for name in names:\n",
    "    print('{}さん、こんにちは  '.format(name))"
   ]
  },
  {
   "cell_type": "markdown",
   "metadata": {},
   "source": [
    "### プログラムを書くときのコツ\n",
    "- まずは動くものを書く(汚くてもOK)\n",
    "- **汎用性**の高いものに修正\n",
    "- **可読性**の高いものに修正\n",
    "\n",
    "まず動く→**リファクタリング**\n",
    "\n",
    "**アルゴリズム**を学ぶときのコツ\n",
    "\n",
    "- 文章で手順を書く\n",
    "- コードを書く"
   ]
  },
  {
   "cell_type": "code",
   "execution_count": 12,
   "metadata": {},
   "outputs": [
    {
     "name": "stdout",
     "output_type": "stream",
     "text": [
      "偶数です\n"
     ]
    }
   ],
   "source": [
    "a=4\n",
    "if a%2==0:\n",
    "    print('偶数です')"
   ]
  },
  {
   "cell_type": "code",
   "execution_count": 13,
   "metadata": {},
   "outputs": [
    {
     "name": "stdout",
     "output_type": "stream",
     "text": [
      "wow\n"
     ]
    }
   ],
   "source": [
    "# 関数の定義\n",
    "def hello(nya):\n",
    "    print(nya)\n",
    "hello('wow')"
   ]
  },
  {
   "cell_type": "code",
   "execution_count": 14,
   "metadata": {},
   "outputs": [
    {
     "name": "stdout",
     "output_type": "stream",
     "text": [
      "こんにちは、黒子野太助さん。\n",
      "ご機嫌、いかがですか。\n"
     ]
    }
   ],
   "source": [
    "def say_hello(lastname,firstname):\n",
    "    print('こんにちは、{}{}さん。'.format(lastname,firstname))\n",
    "    print('ご機嫌、いかがですか。')\n",
    "say_hello('黒子野','太助')"
   ]
  },
  {
   "cell_type": "markdown",
   "metadata": {},
   "source": [
    "##  演習問題(60分)\n",
    "**問題**\n",
    "\n",
    "10000までの素数を表示するプログラムを書いてください。\n",
    "\n",
    "素数：1,2,3,5,7,...\n",
    "\n",
    "**発展**\n",
    "\n",
    "スピードアップを図ってください。"
   ]
  },
  {
   "cell_type": "code",
   "execution_count": 15,
   "metadata": {},
   "outputs": [
    {
     "name": "stdout",
     "output_type": "stream",
     "text": [
      "CPU times: user 5 µs, sys: 1 µs, total: 6 µs\n",
      "Wall time: 11 µs\n"
     ]
    }
   ],
   "source": [
    "%%time #時間を測れる\n",
    "a=1"
   ]
  },
  {
   "cell_type": "code",
   "execution_count": 17,
   "metadata": {},
   "outputs": [
    {
     "name": "stdout",
     "output_type": "stream",
     "text": [
      "22.7 ns ± 2.5 ns per loop (mean ± std. dev. of 7 runs, 10000000 loops each)\n"
     ]
    }
   ],
   "source": [
    "%%timeit #時間を測れる、何回か繰り返した平均を表示してくれる\n",
    "a=1"
   ]
  },
  {
   "cell_type": "markdown",
   "metadata": {},
   "source": [
    "もし1つでも余りが0となっていれば、割り切れているので素数でない\n",
    "すべて余りが0でなければ素数　　"
   ]
  },
  {
   "cell_type": "markdown",
   "metadata": {},
   "source": [
    "- 素数判定フラグをTrueに初期化"
   ]
  },
  {
   "cell_type": "code",
   "execution_count": 34,
   "metadata": {},
   "outputs": [],
   "source": [
    "def gem_prime_numbers(max_val):\n",
    "    numbers=[]\n",
    "\n",
    "    for i in range(1,max_val+1):\n",
    "        flag=True #素数判定フラグ\n",
    "        for j in range(2,i):\n",
    "            if i % j==0:\n",
    "                flag=False\n",
    "            #素数の場合\n",
    "        if flag:\n",
    "            numbers.append(i)\n",
    "    return numbers"
   ]
  },
  {
   "cell_type": "code",
   "execution_count": 41,
   "metadata": {},
   "outputs": [
    {
     "name": "stdout",
     "output_type": "stream",
     "text": [
      "7.62 µs ± 255 ns per loop (mean ± std. dev. of 7 runs, 100000 loops each)\n"
     ]
    }
   ],
   "source": [
    "%%timeit\n",
    "numbers = gem_prime_numbers(10)"
   ]
  },
  {
   "cell_type": "code",
   "execution_count": 42,
   "metadata": {},
   "outputs": [
    {
     "name": "stdout",
     "output_type": "stream",
     "text": [
      "380 µs ± 51.9 µs per loop (mean ± std. dev. of 7 runs, 1000 loops each)\n"
     ]
    }
   ],
   "source": [
    "%%timeit\n",
    "numbers = gem_prime_numbers(100)"
   ]
  },
  {
   "cell_type": "code",
   "execution_count": 43,
   "metadata": {},
   "outputs": [
    {
     "name": "stdout",
     "output_type": "stream",
     "text": [
      "39.5 ms ± 1.99 ms per loop (mean ± std. dev. of 7 runs, 10 loops each)\n"
     ]
    }
   ],
   "source": [
    "%%timeit\n",
    "numbers = gem_prime_numbers(1000)"
   ]
  },
  {
   "cell_type": "code",
   "execution_count": 44,
   "metadata": {},
   "outputs": [
    {
     "name": "stdout",
     "output_type": "stream",
     "text": [
      "4.6 s ± 132 ms per loop (mean ± std. dev. of 7 runs, 1 loop each)\n"
     ]
    }
   ],
   "source": [
    "%%timeit\n",
    "numbers = gem_prime_numbers(10000)"
   ]
  },
  {
   "cell_type": "markdown",
   "metadata": {},
   "source": [
    "## プログラムを組むときは、内側から考えてゆくことが多い"
   ]
  },
  {
   "cell_type": "markdown",
   "metadata": {},
   "source": [
    "***計算量(オーダー)***\n",
    "\n",
    "$n=10$\n",
    "\n",
    "- $O(n)$ <- 10倍すると、計算量が10倍になる\n",
    "- $O(n^2)$ <- 10倍すると、計算量が100倍になる\n",
    "- $O(n^3)$ <- 10倍すると、計算量が1000倍になる"
   ]
  },
  {
   "cell_type": "code",
   "execution_count": 45,
   "metadata": {},
   "outputs": [],
   "source": [
    "%matplotlib inline\n",
    "import matplotlib.pyplot as plt"
   ]
  },
  {
   "cell_type": "code",
   "execution_count": 46,
   "metadata": {},
   "outputs": [
    {
     "data": {
      "text/plain": [
       "<matplotlib.collections.PathCollection at 0x119564080>"
      ]
     },
     "execution_count": 46,
     "metadata": {},
     "output_type": "execute_result"
    },
    {
     "data": {
      "image/png": "[encoded data removed]",
      "text/plain": [
       "<Figure size 432x288 with 1 Axes>"
      ]
     },
     "metadata": {},
     "output_type": "display_data"
    }
   ],
   "source": [
    "max_vals=[10,100,1000,10000]\n",
    "#μs=1e-6：10の-6乗,ms=1e-3：10の-3乗\n",
    "times=[7.62*1e-6,380*1e-6,3.95*1e-3,4.6]\n",
    "\n",
    "plt.scatter(max_vals,times)"
   ]
  },
  {
   "cell_type": "code",
   "execution_count": 47,
   "metadata": {},
   "outputs": [
    {
     "data": {
      "text/plain": [
       "[<matplotlib.lines.Line2D at 0x11b5eb240>]"
      ]
     },
     "execution_count": 47,
     "metadata": {},
     "output_type": "execute_result"
    },
    {
     "data": {
      "image/png": "[encoded data removed]",
      "text/plain": [
       "<Figure size 432x288 with 1 Axes>"
      ]
     },
     "metadata": {},
     "output_type": "display_data"
    }
   ],
   "source": [
    "max_vals=[10,100,1000,10000]\n",
    "times=[7.62*1e-6,380*1e-6,3.95*1e-3,4.6]\n",
    "\n",
    "plt.plot(max_vals,times)"
   ]
  },
  {
   "cell_type": "code",
   "execution_count": 48,
   "metadata": {},
   "outputs": [
    {
     "data": {
      "text/plain": [
       "[<matplotlib.lines.Line2D at 0x11b6a75f8>]"
      ]
     },
     "execution_count": 48,
     "metadata": {},
     "output_type": "execute_result"
    },
    {
     "data": {
      "image/png": "[encoded data removed]",
      "text/plain": [
       "<Figure size 432x288 with 1 Axes>"
      ]
     },
     "metadata": {},
     "output_type": "display_data"
    }
   ],
   "source": [
    "#片対数グラフ\n",
    "max_vals=[1,2,3,4]\n",
    "times=[7.62*1e-6,380*1e-6,3.95*1e-3,4.6]\n",
    "\n",
    "plt.plot(max_vals,times)"
   ]
  },
  {
   "cell_type": "code",
   "execution_count": 60,
   "metadata": {},
   "outputs": [],
   "source": [
    "#高速化1\n",
    "#breakを追加した処理\n",
    "def gem_prime_numbers(max_val):\n",
    "    numbers=[]\n",
    "\n",
    "    for i in range(1,max_val+1):\n",
    "        flag=True \n",
    "        for j in range(2,i):\n",
    "            if i % j==0:\n",
    "                flag=False\n",
    "                break;\n",
    "        if flag:\n",
    "            numbers.append(i)\n",
    "    return numbers"
   ]
  },
  {
   "cell_type": "code",
   "execution_count": null,
   "metadata": {},
   "outputs": [],
   "source": []
  },
  {
   "cell_type": "code",
   "execution_count": 51,
   "metadata": {},
   "outputs": [
    {
     "name": "stdout",
     "output_type": "stream",
     "text": [
      "6.99 µs ± 689 ns per loop (mean ± std. dev. of 7 runs, 100000 loops each)\n"
     ]
    }
   ],
   "source": [
    "%%timeit\n",
    "numbers = gem_prime_numbers(10)"
   ]
  },
  {
   "cell_type": "code",
   "execution_count": 55,
   "metadata": {},
   "outputs": [
    {
     "name": "stdout",
     "output_type": "stream",
     "text": [
      "111 µs ± 946 ns per loop (mean ± std. dev. of 7 runs, 10000 loops each)\n"
     ]
    }
   ],
   "source": [
    "%%timeit\n",
    "numbers = gem_prime_numbers(100)"
   ]
  },
  {
   "cell_type": "code",
   "execution_count": 57,
   "metadata": {},
   "outputs": [
    {
     "name": "stdout",
     "output_type": "stream",
     "text": [
      "6.91 ms ± 564 µs per loop (mean ± std. dev. of 7 runs, 100 loops each)\n"
     ]
    }
   ],
   "source": [
    "%%timeit\n",
    "numbers = gem_prime_numbers(1000)"
   ]
  },
  {
   "cell_type": "code",
   "execution_count": 56,
   "metadata": {},
   "outputs": [
    {
     "name": "stdout",
     "output_type": "stream",
     "text": [
      "622 ms ± 21.4 ms per loop (mean ± std. dev. of 7 runs, 1 loop each)\n"
     ]
    }
   ],
   "source": [
    "%%timeit\n",
    "numbers = gem_prime_numbers(10000)"
   ]
  },
  {
   "cell_type": "code",
   "execution_count": 59,
   "metadata": {},
   "outputs": [
    {
     "data": {
      "text/plain": [
       "<matplotlib.legend.Legend at 0x11b81acf8>"
      ]
     },
     "execution_count": 59,
     "metadata": {},
     "output_type": "execute_result"
    },
    {
     "data": {
      "image/png": "[encoded data removed]",
      "text/plain": [
       "<Figure size 432x288 with 1 Axes>"
      ]
     },
     "metadata": {},
     "output_type": "display_data"
    }
   ],
   "source": [
    "#片対数グラフ\n",
    "max_vals=[1,2,3,4]\n",
    "times1=[7.62*1e-6,380*1e-6,3.95*1e-3,4.6]\n",
    "times2=[6.99*1e-6,111*1e-6,6.91*1e-3,622*1e-3]\n",
    "plt.scatter(max_vals,times1,label='alorithm1')\n",
    "plt.scatter(max_vals,times2,label='alorithm2')\n",
    "plt.legend()"
   ]
  },
  {
   "cell_type": "code",
   "execution_count": 70,
   "metadata": {},
   "outputs": [],
   "source": [
    "#高速化2\n",
    "#breakを追加した処理\n",
    "def gem_prime_numbers(max_val):\n",
    "    numbers=[]\n",
    "\n",
    "    for i in range(2,max_val+1):\n",
    "        flag=True \n",
    "        for number in numbers:\n",
    "            if i % number==0:\n",
    "                flag=False\n",
    "                break;\n",
    "        if flag:\n",
    "            numbers.append(i)\n",
    "    numbers.insert(0,1) #先頭に1を追加\n",
    "    return numbers"
   ]
  },
  {
   "cell_type": "code",
   "execution_count": 71,
   "metadata": {},
   "outputs": [],
   "source": [
    "numbers=gem_prime_numbers(100)"
   ]
  },
  {
   "cell_type": "code",
   "execution_count": 72,
   "metadata": {},
   "outputs": [
    {
     "data": {
      "text/plain": [
       "[1,\n",
       " 2,\n",
       " 3,\n",
       " 5,\n",
       " 7,\n",
       " 11,\n",
       " 13,\n",
       " 17,\n",
       " 19,\n",
       " 23,\n",
       " 29,\n",
       " 31,\n",
       " 37,\n",
       " 41,\n",
       " 43,\n",
       " 47,\n",
       " 53,\n",
       " 59,\n",
       " 61,\n",
       " 67,\n",
       " 71,\n",
       " 73,\n",
       " 79,\n",
       " 83,\n",
       " 89,\n",
       " 97]"
      ]
     },
     "execution_count": 72,
     "metadata": {},
     "output_type": "execute_result"
    }
   ],
   "source": [
    "numbers"
   ]
  },
  {
   "cell_type": "code",
   "execution_count": 73,
   "metadata": {},
   "outputs": [
    {
     "name": "stdout",
     "output_type": "stream",
     "text": [
      "3.17 µs ± 524 ns per loop (mean ± std. dev. of 7 runs, 100000 loops each)\n"
     ]
    }
   ],
   "source": [
    "%%timeit\n",
    "numbers = gem_prime_numbers(10)"
   ]
  },
  {
   "cell_type": "code",
   "execution_count": 74,
   "metadata": {},
   "outputs": [
    {
     "name": "stdout",
     "output_type": "stream",
     "text": [
      "41.1 µs ± 5.49 µs per loop (mean ± std. dev. of 7 runs, 10000 loops each)\n"
     ]
    }
   ],
   "source": [
    "%%timeit\n",
    "numbers = gem_prime_numbers(100)"
   ]
  },
  {
   "cell_type": "code",
   "execution_count": 75,
   "metadata": {},
   "outputs": [
    {
     "name": "stdout",
     "output_type": "stream",
     "text": [
      "1.12 ms ± 64.2 µs per loop (mean ± std. dev. of 7 runs, 1000 loops each)\n"
     ]
    }
   ],
   "source": [
    "%%timeit\n",
    "numbers = gem_prime_numbers(1000)"
   ]
  },
  {
   "cell_type": "code",
   "execution_count": 76,
   "metadata": {},
   "outputs": [
    {
     "name": "stdout",
     "output_type": "stream",
     "text": [
      "70.3 ms ± 5.15 ms per loop (mean ± std. dev. of 7 runs, 10 loops each)\n"
     ]
    }
   ],
   "source": [
    "%%timeit\n",
    "numbers = gem_prime_numbers(10000)"
   ]
  },
  {
   "cell_type": "code",
   "execution_count": 78,
   "metadata": {},
   "outputs": [
    {
     "data": {
      "text/plain": [
       "<matplotlib.legend.Legend at 0x11b91fa90>"
      ]
     },
     "execution_count": 78,
     "metadata": {},
     "output_type": "execute_result"
    },
    {
     "data": {
      "image/png": "[encoded data removed]",
      "text/plain": [
       "<Figure size 432x288 with 1 Axes>"
      ]
     },
     "metadata": {},
     "output_type": "display_data"
    }
   ],
   "source": [
    "#片対数グラフ\n",
    "max_vals=[1,2,3,4]\n",
    "times1=[7.62*1e-6,380*1e-6,3.95*1e-3,4.6]\n",
    "times2=[6.99*1e-6,111*1e-6,6.91*1e-3,622*1e-3]\n",
    "times3=[3.17*1e-6,41.1*1e-6,1.12*1e-3,70.3*1e-3]\n",
    "#plt.scatter(max_vals,times1,label='alorithm1')\n",
    "plt.scatter(max_vals,times2,label='alorithm2')\n",
    "plt.scatter(max_vals,times3,label='alorithm3')\n",
    "plt.legend()"
   ]
  },
  {
   "cell_type": "code",
   "execution_count": null,
   "metadata": {},
   "outputs": [],
   "source": []
  }
 ],
 "metadata": {
  "kernelspec": {
   "display_name": "Python 3",
   "language": "python",
   "name": "python3"
  },
  "language_info": {
   "codemirror_mode": {
    "name": "ipython",
    "version": 3
   },
   "file_extension": ".py",
   "mimetype": "text/x-python",
   "name": "python",
   "nbconvert_exporter": "python",
   "pygments_lexer": "ipython3",
   "version": "3.7.0"
  }
 },
 "nbformat": 4,
 "nbformat_minor": 2
}
